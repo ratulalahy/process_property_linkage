{
 "cells": [
  {
   "cell_type": "code",
   "execution_count": null,
   "metadata": {},
   "outputs": [],
   "source": [
    "cv_low_lw = [ 0.35346507,  0.65827949,  0.32880912,  0.50585129, -0.89193498]\n",
    "\n",
    "eval_train_low_lw = {'mean_squared_error': 453.0560456200337, 'mean_absolute_error': 15.018593178552534, 'median_absolute_error': 10.383416847147615, 'r2_score': 0.7446842529645081, 'root_mean_squared_error': 21.28511323953983, 'mean_squared_log_error': 0.00886216570359961, 'mean_absolute_percentage_error': 6.7276101823078065}\n",
    "eval_test_low_lw = {'mean_squared_error': 981.8816364982597, 'mean_absolute_error': 23.673461795441163, 'median_absolute_error': 16.897641710657297, 'r2_score': 0.5960246643874236, 'root_mean_squared_error': 31.334990609512868, 'mean_squared_log_error': 0.01890438308272077, 'mean_absolute_percentage_error': 10.748316454522145}\n",
    "\n",
    "cv_low_rough = [ 0.35346507,  0.65827949,  0.32880912,  0.50585129, -0.89193498]\n",
    "eval_train_low_rough = {'mean_squared_error': 281.0634358129516, 'mean_absolute_error': 13.052599350053955, 'median_absolute_error': 10.703082881855824, 'r2_score': 0.6784011764737172, 'root_mean_squared_error': 16.764946639132244, 'mean_squared_log_error': 0.03381479791461261, 'mean_absolute_percentage_error': 14.89278125540647}\n",
    "eval_test_low_rough = {'mean_squared_error': 1329.6976617784383, 'mean_absolute_error': 29.46294042653706, 'median_absolute_error': 24.745872780095844, 'r2_score': -0.14427720794669852, 'root_mean_squared_error': 36.46501970078226, 'mean_squared_log_error': 0.1099659126289754, 'mean_absolute_percentage_error': 30.210976511830488}\n",
    "\n",
    "\n",
    "cv_low_spray = [ 0.35346507,  0.65827949,  0.32880912,  0.50585129, -0.89193498]\n",
    "eval_train_low_spray = {'mean_squared_error': 5567.961489645292, 'mean_absolute_error': 57.956920273748814, 'median_absolute_error': 42.76672180421332, 'r2_score': 0.525067103531303, 'root_mean_squared_error': 74.61877437780181, 'mean_absolute_percentage_error': inf}\n",
    "eval_test_low_spray ={'mean_squared_error': 27124.86491393486, 'mean_absolute_error': 120.16865802618416, 'median_absolute_error': 87.51185339135796, 'r2_score': -1.0983243822946012, 'root_mean_squared_error': 164.6962808139117, 'mean_absolute_percentage_error': inf}"
   ]
  },
  {
   "cell_type": "code",
   "execution_count": null,
   "metadata": {},
   "outputs": [],
   "source": [
    "cv_os_lw = [-0.27645443,  0.30813954, -0.08472446,  0.23143055,  0.39781556]\n",
    "\n",
    "eval_train_os_lw = {'mean_squared_error': 1179.461973820521, 'mean_absolute_error': 21.454290345084175, 'median_absolute_error': 14.129505185006067, 'r2_score': 0.6493337968415799, 'root_mean_squared_error': 34.3432959079428, 'mean_absolute_percentage_error': 7.859296604009916}\n",
    "eval_test_os_lw = {'mean_squared_error': 667.3200393366636, 'mean_absolute_error': 20.42511352949256, 'median_absolute_error': 16.007013034235626, 'r2_score': 0.7378260715020966, 'root_mean_squared_error': 25.832538383532185, 'mean_absolute_percentage_error': 8.577201710504017}\n",
    "\n",
    "\n",
    "\n",
    "cv_os_rough = [-0.27645443,  0.30813954, -0.08472446,  0.23143055,  0.39781556]\n",
    "eval_train_os_rough = {'mean_squared_error': 331.6131727355533, 'mean_absolute_error': 13.500063024054514, 'median_absolute_error': 10.084568233453531, 'r2_score': 0.7382118750975617, 'root_mean_squared_error': 18.210249112396934, 'mean_absolute_percentage_error': 13.179510182732598}\n",
    "eval_test_os_rough = {'mean_squared_error': 527.113008752604, 'mean_absolute_error': 17.568896460022785, 'median_absolute_error': 13.607764497737207, 'r2_score': 0.47084149736105574, 'root_mean_squared_error': 22.958941803850717, 'mean_absolute_percentage_error': 19.58808664767769}\n",
    "\n",
    "\n",
    "cv_os_spray = [-0.27645443,  0.30813954, -0.08472446,  0.23143055,  0.39781556]\n",
    "eval_train_os_spray = {'mean_squared_error': 6582.451667697064, 'mean_absolute_error': 63.498915919383094, 'median_absolute_error': 53.22941049417915, 'r2_score': 0.567467336551543, 'root_mean_squared_error': 81.13230964108605, 'mean_absolute_percentage_error': inf}\n",
    "eval_test_os_spray = {'mean_squared_error': 11149.957527953507, 'mean_absolute_error': 85.4229334360305, 'median_absolute_error': 72.54041868018726, 'r2_score': 0.11075978769160622, 'root_mean_squared_error': 105.59335929855393, 'mean_absolute_percentage_error': inf}"
   ]
  }
 ],
 "metadata": {
  "language_info": {
   "name": "python"
  },
  "orig_nbformat": 4
 },
 "nbformat": 4,
 "nbformat_minor": 2
}
